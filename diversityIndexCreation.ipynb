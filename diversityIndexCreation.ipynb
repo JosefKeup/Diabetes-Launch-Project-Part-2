{
 "cells": [
  {
   "cell_type": "code",
   "execution_count": null,
   "id": "e653496d",
   "metadata": {},
   "outputs": [
    {
     "name": "stderr",
     "output_type": "stream",
     "text": [
      "c:\\Users\\josef\\anaconda3\\envs\\notebook\\Lib\\site-packages\\pandas\\core\\internals\\blocks.py:393: RuntimeWarning: invalid value encountered in log\n",
      "  result = func(self.values, **kwargs)\n"
     ]
    },
    {
     "ename": "",
     "evalue": "",
     "output_type": "error",
     "traceback": [
      "\u001b[1;31mThe Kernel crashed while executing code in the current cell or a previous cell. \n",
      "\u001b[1;31mPlease review the code in the cell(s) to identify a possible cause of the failure. \n",
      "\u001b[1;31mClick <a href='https://aka.ms/vscodeJupyterKernelCrash'>here</a> for more info. \n",
      "\u001b[1;31mView Jupyter <a href='command:jupyter.viewOutput'>log</a> for further details."
     ]
    }
   ],
   "source": [
    "import pandas as pd\n",
    "import numpy as np\n",
    "\n",
    "# 1. Load\n",
    "df = pd.read_csv(\"imputed_and_standardised.csv\")\n",
    "\n",
    "# 2. Pick the race columns you want in the index  ──────────\n",
    "race_groups = {\n",
    "    \"White\"          : [\"WA_MALE\",  \"WA_FEMALE\"],\n",
    "    \"Black\"          : [\"BA_MALE\",  \"BA_FEMALE\"],\n",
    "    \"Indigenous\"     : [\"IA_MALE\",  \"IA_FEMALE\"],   # American Indian / Alaska Native\n",
    "    \"Asian\"          : [\"AA_MALE\",  \"AA_FEMALE\"],\n",
    "    \"NativeHawaiian\" : [\"NA_MALE\",  \"NA_FEMALE\"],\n",
    "    \"TwoOrMore\"      : [\"TOM_MALE\", \"TOM_FEMALE\"],  # Two-or-more races\n",
    "}\n",
    "\n",
    "# 3. Aggregate counts for each group\n",
    "for group, cols in race_groups.items():\n",
    "    df[f\"{group}_TOTAL\"] = df[cols].sum(axis=1)\n",
    "\n",
    "# 4. Convert to proportions\n",
    "total_pop_col = \"TOTAL_RACE_POP\"\n",
    "df[total_pop_col] = df[[f\"{g}_TOTAL\" for g in race_groups]].sum(axis=1)\n",
    "for group in race_groups:\n",
    "    df[f\"{group}_PCT\"] = df[f\"{group}_TOTAL\"] / df[total_pop_col]\n",
    "\n",
    "pct_cols = [f\"{g}_PCT\" for g in race_groups]\n",
    "eps = 1e-12                      # avoids log(0)\n",
    "\n",
    "# 5-A. Shannon diversity (entropy)\n",
    "df[\"racial_diversity_shannon\"] = - (df[pct_cols] * np.log(df[pct_cols] + eps)).sum(axis=1)\n",
    "\n",
    "# 5-B. Simpson diversity (1 – Σ p²)\n",
    "df[\"racial_diversity_simpson\"] = 1 - (df[pct_cols] ** 2).sum(axis=1)\n",
    "\n",
    "# 6. Save (optional)\n",
    "df.to_csv(\"imputed_and_standardised_with_diversity.csv\", index=False)\n"
   ]
  },
  {
   "cell_type": "code",
   "execution_count": null,
   "id": "78bee26c",
   "metadata": {},
   "outputs": [],
   "source": []
  }
 ],
 "metadata": {
  "kernelspec": {
   "display_name": "notebook",
   "language": "python",
   "name": "python3"
  },
  "language_info": {
   "codemirror_mode": {
    "name": "ipython",
    "version": 3
   },
   "file_extension": ".py",
   "mimetype": "text/x-python",
   "name": "python",
   "nbconvert_exporter": "python",
   "pygments_lexer": "ipython3",
   "version": "3.12.5"
  }
 },
 "nbformat": 4,
 "nbformat_minor": 5
}
